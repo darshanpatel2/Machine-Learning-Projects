{
 "cells": [
  {
   "cell_type": "markdown",
   "id": "a7a416fc",
   "metadata": {},
   "source": [
    "## Darshan Patel"
   ]
  },
  {
   "cell_type": "markdown",
   "id": "f8ff88f0",
   "metadata": {},
   "source": [
    "# 1.\tUse “heart.csv” dataset "
   ]
  },
  {
   "cell_type": "markdown",
   "id": "09d63a38",
   "metadata": {},
   "source": [
    "### a.\tStudy the dataset, identify the independent and target variables. "
   ]
  },
  {
   "cell_type": "code",
   "execution_count": 270,
   "id": "3ce45ce4",
   "metadata": {},
   "outputs": [],
   "source": [
    "# Importing all necessary libraries\n",
    "\n",
    "import numpy as np\n",
    "import pandas as pd\n",
    "import matplotlib.pyplot as plt\n",
    "%matplotlib inline\n",
    "import seaborn as sns"
   ]
  },
  {
   "cell_type": "code",
   "execution_count": 271,
   "id": "891be170",
   "metadata": {},
   "outputs": [
    {
     "data": {
      "text/html": [
       "<div>\n",
       "<style scoped>\n",
       "    .dataframe tbody tr th:only-of-type {\n",
       "        vertical-align: middle;\n",
       "    }\n",
       "\n",
       "    .dataframe tbody tr th {\n",
       "        vertical-align: top;\n",
       "    }\n",
       "\n",
       "    .dataframe thead th {\n",
       "        text-align: right;\n",
       "    }\n",
       "</style>\n",
       "<table border=\"1\" class=\"dataframe\">\n",
       "  <thead>\n",
       "    <tr style=\"text-align: right;\">\n",
       "      <th></th>\n",
       "      <th>age</th>\n",
       "      <th>sex</th>\n",
       "      <th>cp</th>\n",
       "      <th>trestbps</th>\n",
       "      <th>chol</th>\n",
       "      <th>fbs</th>\n",
       "      <th>restecg</th>\n",
       "      <th>thalach</th>\n",
       "      <th>exang</th>\n",
       "      <th>oldpeak</th>\n",
       "      <th>slope</th>\n",
       "      <th>ca</th>\n",
       "      <th>thal</th>\n",
       "      <th>target</th>\n",
       "    </tr>\n",
       "  </thead>\n",
       "  <tbody>\n",
       "    <tr>\n",
       "      <th>0</th>\n",
       "      <td>63</td>\n",
       "      <td>1</td>\n",
       "      <td>3</td>\n",
       "      <td>145</td>\n",
       "      <td>233</td>\n",
       "      <td>1</td>\n",
       "      <td>0</td>\n",
       "      <td>150</td>\n",
       "      <td>0</td>\n",
       "      <td>2.3</td>\n",
       "      <td>0</td>\n",
       "      <td>0</td>\n",
       "      <td>1</td>\n",
       "      <td>1</td>\n",
       "    </tr>\n",
       "    <tr>\n",
       "      <th>1</th>\n",
       "      <td>37</td>\n",
       "      <td>1</td>\n",
       "      <td>2</td>\n",
       "      <td>130</td>\n",
       "      <td>250</td>\n",
       "      <td>0</td>\n",
       "      <td>1</td>\n",
       "      <td>187</td>\n",
       "      <td>0</td>\n",
       "      <td>3.5</td>\n",
       "      <td>0</td>\n",
       "      <td>0</td>\n",
       "      <td>2</td>\n",
       "      <td>1</td>\n",
       "    </tr>\n",
       "    <tr>\n",
       "      <th>2</th>\n",
       "      <td>41</td>\n",
       "      <td>0</td>\n",
       "      <td>1</td>\n",
       "      <td>130</td>\n",
       "      <td>204</td>\n",
       "      <td>0</td>\n",
       "      <td>0</td>\n",
       "      <td>172</td>\n",
       "      <td>0</td>\n",
       "      <td>1.4</td>\n",
       "      <td>2</td>\n",
       "      <td>0</td>\n",
       "      <td>2</td>\n",
       "      <td>1</td>\n",
       "    </tr>\n",
       "    <tr>\n",
       "      <th>3</th>\n",
       "      <td>56</td>\n",
       "      <td>1</td>\n",
       "      <td>1</td>\n",
       "      <td>120</td>\n",
       "      <td>236</td>\n",
       "      <td>0</td>\n",
       "      <td>1</td>\n",
       "      <td>178</td>\n",
       "      <td>0</td>\n",
       "      <td>0.8</td>\n",
       "      <td>2</td>\n",
       "      <td>0</td>\n",
       "      <td>2</td>\n",
       "      <td>1</td>\n",
       "    </tr>\n",
       "    <tr>\n",
       "      <th>4</th>\n",
       "      <td>57</td>\n",
       "      <td>0</td>\n",
       "      <td>0</td>\n",
       "      <td>120</td>\n",
       "      <td>354</td>\n",
       "      <td>0</td>\n",
       "      <td>1</td>\n",
       "      <td>163</td>\n",
       "      <td>1</td>\n",
       "      <td>0.6</td>\n",
       "      <td>2</td>\n",
       "      <td>0</td>\n",
       "      <td>2</td>\n",
       "      <td>1</td>\n",
       "    </tr>\n",
       "  </tbody>\n",
       "</table>\n",
       "</div>"
      ],
      "text/plain": [
       "   age  sex  cp  trestbps  chol  fbs  restecg  thalach  exang  oldpeak  slope  \\\n",
       "0   63    1   3       145   233    1        0      150      0      2.3      0   \n",
       "1   37    1   2       130   250    0        1      187      0      3.5      0   \n",
       "2   41    0   1       130   204    0        0      172      0      1.4      2   \n",
       "3   56    1   1       120   236    0        1      178      0      0.8      2   \n",
       "4   57    0   0       120   354    0        1      163      1      0.6      2   \n",
       "\n",
       "   ca  thal  target  \n",
       "0   0     1       1  \n",
       "1   0     2       1  \n",
       "2   0     2       1  \n",
       "3   0     2       1  \n",
       "4   0     2       1  "
      ]
     },
     "execution_count": 271,
     "metadata": {},
     "output_type": "execute_result"
    }
   ],
   "source": [
    "df = pd.read_csv(\"C:/Users/Darshan/Desktop/SEM-2 AI and DS/ML/heart.csv\")\n",
    "df.head()"
   ]
  },
  {
   "cell_type": "code",
   "execution_count": 272,
   "id": "7ea26317",
   "metadata": {},
   "outputs": [
    {
     "data": {
      "text/plain": [
       "(303, 14)"
      ]
     },
     "execution_count": 272,
     "metadata": {},
     "output_type": "execute_result"
    }
   ],
   "source": [
    "df.shape"
   ]
  },
  {
   "cell_type": "code",
   "execution_count": 273,
   "id": "7d837cc5",
   "metadata": {},
   "outputs": [
    {
     "data": {
      "text/plain": [
       "array([1, 0], dtype=int64)"
      ]
     },
     "execution_count": 273,
     "metadata": {},
     "output_type": "execute_result"
    }
   ],
   "source": [
    "df['target'].unique()"
   ]
  },
  {
   "cell_type": "markdown",
   "id": "75b9bd64",
   "metadata": {},
   "source": [
    "#### We can see dataset and it has total 303 rows and 14 columns. \n",
    "#### Target Attribute is target attribute which contain 2 different values 0 and 1.\n",
    "#### 0 --> Not suffered\n",
    "#### 1 --> Suffered\n",
    "\n",
    "#### rest of the attributes are Independent attributes."
   ]
  },
  {
   "cell_type": "code",
   "execution_count": 274,
   "id": "630d0a19",
   "metadata": {},
   "outputs": [
    {
     "data": {
      "text/plain": [
       "age         0\n",
       "sex         0\n",
       "cp          0\n",
       "trestbps    0\n",
       "chol        0\n",
       "fbs         0\n",
       "restecg     0\n",
       "thalach     0\n",
       "exang       0\n",
       "oldpeak     0\n",
       "slope       0\n",
       "ca          0\n",
       "thal        0\n",
       "target      0\n",
       "dtype: int64"
      ]
     },
     "execution_count": 274,
     "metadata": {},
     "output_type": "execute_result"
    }
   ],
   "source": [
    "# Check for null or missing values in our data\n",
    "df.isnull().sum()\n",
    "\n",
    "# We can see that there is no null or missing values in our data"
   ]
  },
  {
   "cell_type": "code",
   "execution_count": 275,
   "id": "ae8f8ffa",
   "metadata": {},
   "outputs": [
    {
     "data": {
      "text/html": [
       "<div>\n",
       "<style scoped>\n",
       "    .dataframe tbody tr th:only-of-type {\n",
       "        vertical-align: middle;\n",
       "    }\n",
       "\n",
       "    .dataframe tbody tr th {\n",
       "        vertical-align: top;\n",
       "    }\n",
       "\n",
       "    .dataframe thead th {\n",
       "        text-align: right;\n",
       "    }\n",
       "</style>\n",
       "<table border=\"1\" class=\"dataframe\">\n",
       "  <thead>\n",
       "    <tr style=\"text-align: right;\">\n",
       "      <th></th>\n",
       "      <th>age</th>\n",
       "      <th>sex</th>\n",
       "      <th>cp</th>\n",
       "      <th>trestbps</th>\n",
       "      <th>chol</th>\n",
       "      <th>fbs</th>\n",
       "      <th>restecg</th>\n",
       "      <th>thalach</th>\n",
       "      <th>exang</th>\n",
       "      <th>oldpeak</th>\n",
       "      <th>slope</th>\n",
       "      <th>ca</th>\n",
       "      <th>thal</th>\n",
       "      <th>target</th>\n",
       "    </tr>\n",
       "  </thead>\n",
       "  <tbody>\n",
       "    <tr>\n",
       "      <th>count</th>\n",
       "      <td>303.000000</td>\n",
       "      <td>303.000000</td>\n",
       "      <td>303.000000</td>\n",
       "      <td>303.000000</td>\n",
       "      <td>303.000000</td>\n",
       "      <td>303.000000</td>\n",
       "      <td>303.000000</td>\n",
       "      <td>303.000000</td>\n",
       "      <td>303.000000</td>\n",
       "      <td>303.000000</td>\n",
       "      <td>303.000000</td>\n",
       "      <td>303.000000</td>\n",
       "      <td>303.000000</td>\n",
       "      <td>303.000000</td>\n",
       "    </tr>\n",
       "    <tr>\n",
       "      <th>mean</th>\n",
       "      <td>54.366337</td>\n",
       "      <td>0.683168</td>\n",
       "      <td>0.966997</td>\n",
       "      <td>131.623762</td>\n",
       "      <td>246.264026</td>\n",
       "      <td>0.148515</td>\n",
       "      <td>0.528053</td>\n",
       "      <td>149.646865</td>\n",
       "      <td>0.326733</td>\n",
       "      <td>1.039604</td>\n",
       "      <td>1.399340</td>\n",
       "      <td>0.729373</td>\n",
       "      <td>2.313531</td>\n",
       "      <td>0.544554</td>\n",
       "    </tr>\n",
       "    <tr>\n",
       "      <th>std</th>\n",
       "      <td>9.082101</td>\n",
       "      <td>0.466011</td>\n",
       "      <td>1.032052</td>\n",
       "      <td>17.538143</td>\n",
       "      <td>51.830751</td>\n",
       "      <td>0.356198</td>\n",
       "      <td>0.525860</td>\n",
       "      <td>22.905161</td>\n",
       "      <td>0.469794</td>\n",
       "      <td>1.161075</td>\n",
       "      <td>0.616226</td>\n",
       "      <td>1.022606</td>\n",
       "      <td>0.612277</td>\n",
       "      <td>0.498835</td>\n",
       "    </tr>\n",
       "    <tr>\n",
       "      <th>min</th>\n",
       "      <td>29.000000</td>\n",
       "      <td>0.000000</td>\n",
       "      <td>0.000000</td>\n",
       "      <td>94.000000</td>\n",
       "      <td>126.000000</td>\n",
       "      <td>0.000000</td>\n",
       "      <td>0.000000</td>\n",
       "      <td>71.000000</td>\n",
       "      <td>0.000000</td>\n",
       "      <td>0.000000</td>\n",
       "      <td>0.000000</td>\n",
       "      <td>0.000000</td>\n",
       "      <td>0.000000</td>\n",
       "      <td>0.000000</td>\n",
       "    </tr>\n",
       "    <tr>\n",
       "      <th>25%</th>\n",
       "      <td>47.500000</td>\n",
       "      <td>0.000000</td>\n",
       "      <td>0.000000</td>\n",
       "      <td>120.000000</td>\n",
       "      <td>211.000000</td>\n",
       "      <td>0.000000</td>\n",
       "      <td>0.000000</td>\n",
       "      <td>133.500000</td>\n",
       "      <td>0.000000</td>\n",
       "      <td>0.000000</td>\n",
       "      <td>1.000000</td>\n",
       "      <td>0.000000</td>\n",
       "      <td>2.000000</td>\n",
       "      <td>0.000000</td>\n",
       "    </tr>\n",
       "    <tr>\n",
       "      <th>50%</th>\n",
       "      <td>55.000000</td>\n",
       "      <td>1.000000</td>\n",
       "      <td>1.000000</td>\n",
       "      <td>130.000000</td>\n",
       "      <td>240.000000</td>\n",
       "      <td>0.000000</td>\n",
       "      <td>1.000000</td>\n",
       "      <td>153.000000</td>\n",
       "      <td>0.000000</td>\n",
       "      <td>0.800000</td>\n",
       "      <td>1.000000</td>\n",
       "      <td>0.000000</td>\n",
       "      <td>2.000000</td>\n",
       "      <td>1.000000</td>\n",
       "    </tr>\n",
       "    <tr>\n",
       "      <th>75%</th>\n",
       "      <td>61.000000</td>\n",
       "      <td>1.000000</td>\n",
       "      <td>2.000000</td>\n",
       "      <td>140.000000</td>\n",
       "      <td>274.500000</td>\n",
       "      <td>0.000000</td>\n",
       "      <td>1.000000</td>\n",
       "      <td>166.000000</td>\n",
       "      <td>1.000000</td>\n",
       "      <td>1.600000</td>\n",
       "      <td>2.000000</td>\n",
       "      <td>1.000000</td>\n",
       "      <td>3.000000</td>\n",
       "      <td>1.000000</td>\n",
       "    </tr>\n",
       "    <tr>\n",
       "      <th>max</th>\n",
       "      <td>77.000000</td>\n",
       "      <td>1.000000</td>\n",
       "      <td>3.000000</td>\n",
       "      <td>200.000000</td>\n",
       "      <td>564.000000</td>\n",
       "      <td>1.000000</td>\n",
       "      <td>2.000000</td>\n",
       "      <td>202.000000</td>\n",
       "      <td>1.000000</td>\n",
       "      <td>6.200000</td>\n",
       "      <td>2.000000</td>\n",
       "      <td>4.000000</td>\n",
       "      <td>3.000000</td>\n",
       "      <td>1.000000</td>\n",
       "    </tr>\n",
       "  </tbody>\n",
       "</table>\n",
       "</div>"
      ],
      "text/plain": [
       "              age         sex          cp    trestbps        chol         fbs  \\\n",
       "count  303.000000  303.000000  303.000000  303.000000  303.000000  303.000000   \n",
       "mean    54.366337    0.683168    0.966997  131.623762  246.264026    0.148515   \n",
       "std      9.082101    0.466011    1.032052   17.538143   51.830751    0.356198   \n",
       "min     29.000000    0.000000    0.000000   94.000000  126.000000    0.000000   \n",
       "25%     47.500000    0.000000    0.000000  120.000000  211.000000    0.000000   \n",
       "50%     55.000000    1.000000    1.000000  130.000000  240.000000    0.000000   \n",
       "75%     61.000000    1.000000    2.000000  140.000000  274.500000    0.000000   \n",
       "max     77.000000    1.000000    3.000000  200.000000  564.000000    1.000000   \n",
       "\n",
       "          restecg     thalach       exang     oldpeak       slope          ca  \\\n",
       "count  303.000000  303.000000  303.000000  303.000000  303.000000  303.000000   \n",
       "mean     0.528053  149.646865    0.326733    1.039604    1.399340    0.729373   \n",
       "std      0.525860   22.905161    0.469794    1.161075    0.616226    1.022606   \n",
       "min      0.000000   71.000000    0.000000    0.000000    0.000000    0.000000   \n",
       "25%      0.000000  133.500000    0.000000    0.000000    1.000000    0.000000   \n",
       "50%      1.000000  153.000000    0.000000    0.800000    1.000000    0.000000   \n",
       "75%      1.000000  166.000000    1.000000    1.600000    2.000000    1.000000   \n",
       "max      2.000000  202.000000    1.000000    6.200000    2.000000    4.000000   \n",
       "\n",
       "             thal      target  \n",
       "count  303.000000  303.000000  \n",
       "mean     2.313531    0.544554  \n",
       "std      0.612277    0.498835  \n",
       "min      0.000000    0.000000  \n",
       "25%      2.000000    0.000000  \n",
       "50%      2.000000    1.000000  \n",
       "75%      3.000000    1.000000  \n",
       "max      3.000000    1.000000  "
      ]
     },
     "execution_count": 275,
     "metadata": {},
     "output_type": "execute_result"
    }
   ],
   "source": [
    "# Check for statistical measures \n",
    "df.describe()"
   ]
  },
  {
   "cell_type": "code",
   "execution_count": 276,
   "id": "857002fb",
   "metadata": {},
   "outputs": [
    {
     "name": "stdout",
     "output_type": "stream",
     "text": [
      "<class 'pandas.core.frame.DataFrame'>\n",
      "RangeIndex: 303 entries, 0 to 302\n",
      "Data columns (total 14 columns):\n",
      " #   Column    Non-Null Count  Dtype  \n",
      "---  ------    --------------  -----  \n",
      " 0   age       303 non-null    int64  \n",
      " 1   sex       303 non-null    int64  \n",
      " 2   cp        303 non-null    int64  \n",
      " 3   trestbps  303 non-null    int64  \n",
      " 4   chol      303 non-null    int64  \n",
      " 5   fbs       303 non-null    int64  \n",
      " 6   restecg   303 non-null    int64  \n",
      " 7   thalach   303 non-null    int64  \n",
      " 8   exang     303 non-null    int64  \n",
      " 9   oldpeak   303 non-null    float64\n",
      " 10  slope     303 non-null    int64  \n",
      " 11  ca        303 non-null    int64  \n",
      " 12  thal      303 non-null    int64  \n",
      " 13  target    303 non-null    int64  \n",
      "dtypes: float64(1), int64(13)\n",
      "memory usage: 33.3 KB\n"
     ]
    }
   ],
   "source": [
    "df.info()"
   ]
  },
  {
   "cell_type": "markdown",
   "id": "be015e1d",
   "metadata": {},
   "source": [
    "### b.\tBreak down the dataset into training (70%) and testing (30%) datasets and make sure these two datasets do not share any common data point."
   ]
  },
  {
   "cell_type": "code",
   "execution_count": 277,
   "id": "6dc5b37f",
   "metadata": {},
   "outputs": [
    {
     "name": "stdout",
     "output_type": "stream",
     "text": [
      "(303, 13)\n",
      "(303,)\n"
     ]
    }
   ],
   "source": [
    "# Assign dependent and indepedent data to 2 different variables\n",
    "\n",
    "X = df.drop(columns = 'target')\n",
    "y = df['target']\n",
    "print(X.shape)\n",
    "print(y.shape)"
   ]
  },
  {
   "cell_type": "code",
   "execution_count": 278,
   "id": "f60023ee",
   "metadata": {},
   "outputs": [],
   "source": [
    "# Lets split data into training and testing set using sklearn\n",
    "\n",
    "from sklearn.model_selection import train_test_split\n",
    "\n",
    "X_train, X_test, y_train, y_test = train_test_split(X, y, test_size=0.3, random_state=42)"
   ]
  },
  {
   "cell_type": "markdown",
   "id": "16730393",
   "metadata": {},
   "source": [
    "#### This code divide data into  training (70%) and testing (30%) groups and we do not need to worry about data overlapping as \"train_test_split\" library take care of it by default."
   ]
  },
  {
   "cell_type": "markdown",
   "id": "b15bbda4",
   "metadata": {},
   "source": [
    "### c.\tThen, fit a decision tree classifier on the training data using the target and independent variables."
   ]
  },
  {
   "cell_type": "code",
   "execution_count": 279,
   "id": "3c3c1c17",
   "metadata": {},
   "outputs": [],
   "source": [
    "from sklearn.tree import DecisionTreeClassifier"
   ]
  },
  {
   "cell_type": "code",
   "execution_count": 280,
   "id": "873232b1",
   "metadata": {},
   "outputs": [
    {
     "data": {
      "text/plain": [
       "DecisionTreeClassifier(criterion='entropy', random_state=0)"
      ]
     },
     "execution_count": 280,
     "metadata": {},
     "output_type": "execute_result"
    }
   ],
   "source": [
    "model = DecisionTreeClassifier(criterion = 'entropy', random_state = 0) # Here we used Decision Tree as a classifier\n",
    "model.fit(X_train, y_train)    # Fitted data for training using training set"
   ]
  },
  {
   "cell_type": "markdown",
   "id": "9c92b4c4",
   "metadata": {},
   "source": [
    "### d.\tPredict the target variable on the testing dataset."
   ]
  },
  {
   "cell_type": "code",
   "execution_count": 281,
   "id": "d38dc61c",
   "metadata": {},
   "outputs": [],
   "source": [
    "y_pred = model.predict(X_test)    # making predictions on test data"
   ]
  },
  {
   "cell_type": "code",
   "execution_count": 282,
   "id": "de254cf3",
   "metadata": {},
   "outputs": [
    {
     "data": {
      "text/plain": [
       "array([0, 1, 1, 0, 1, 1, 1, 0, 0, 0, 1, 0, 1, 0, 1, 1, 1, 0, 0, 0, 1, 0,\n",
       "       1, 0, 0, 0, 1, 1, 0, 1, 0, 0, 0, 0, 1, 0, 0, 1, 0, 1, 1, 1, 1, 0,\n",
       "       0, 0, 1, 1, 0, 0, 0, 0, 1, 1, 0, 0, 1, 1, 1, 0, 0, 1, 0, 0, 1, 0,\n",
       "       0, 1, 1, 1, 1, 1, 1, 1, 0, 1, 1, 0, 1, 0, 1, 0, 1, 1, 0, 0, 0, 0,\n",
       "       1, 0, 1], dtype=int64)"
      ]
     },
     "execution_count": 282,
     "metadata": {},
     "output_type": "execute_result"
    }
   ],
   "source": [
    "y_pred"
   ]
  },
  {
   "cell_type": "code",
   "execution_count": 283,
   "id": "56c8d6f3",
   "metadata": {},
   "outputs": [
    {
     "data": {
      "text/html": [
       "<div>\n",
       "<style scoped>\n",
       "    .dataframe tbody tr th:only-of-type {\n",
       "        vertical-align: middle;\n",
       "    }\n",
       "\n",
       "    .dataframe tbody tr th {\n",
       "        vertical-align: top;\n",
       "    }\n",
       "\n",
       "    .dataframe thead th {\n",
       "        text-align: right;\n",
       "    }\n",
       "</style>\n",
       "<table border=\"1\" class=\"dataframe\">\n",
       "  <thead>\n",
       "    <tr style=\"text-align: right;\">\n",
       "      <th></th>\n",
       "      <th>Actual</th>\n",
       "      <th>Predicted</th>\n",
       "    </tr>\n",
       "  </thead>\n",
       "  <tbody>\n",
       "    <tr>\n",
       "      <th>179</th>\n",
       "      <td>0</td>\n",
       "      <td>0</td>\n",
       "    </tr>\n",
       "    <tr>\n",
       "      <th>228</th>\n",
       "      <td>0</td>\n",
       "      <td>1</td>\n",
       "    </tr>\n",
       "    <tr>\n",
       "      <th>111</th>\n",
       "      <td>1</td>\n",
       "      <td>1</td>\n",
       "    </tr>\n",
       "    <tr>\n",
       "      <th>246</th>\n",
       "      <td>0</td>\n",
       "      <td>0</td>\n",
       "    </tr>\n",
       "    <tr>\n",
       "      <th>60</th>\n",
       "      <td>1</td>\n",
       "      <td>1</td>\n",
       "    </tr>\n",
       "    <tr>\n",
       "      <th>9</th>\n",
       "      <td>1</td>\n",
       "      <td>1</td>\n",
       "    </tr>\n",
       "    <tr>\n",
       "      <th>119</th>\n",
       "      <td>1</td>\n",
       "      <td>1</td>\n",
       "    </tr>\n",
       "    <tr>\n",
       "      <th>223</th>\n",
       "      <td>0</td>\n",
       "      <td>0</td>\n",
       "    </tr>\n",
       "    <tr>\n",
       "      <th>268</th>\n",
       "      <td>0</td>\n",
       "      <td>0</td>\n",
       "    </tr>\n",
       "    <tr>\n",
       "      <th>33</th>\n",
       "      <td>1</td>\n",
       "      <td>0</td>\n",
       "    </tr>\n",
       "  </tbody>\n",
       "</table>\n",
       "</div>"
      ],
      "text/plain": [
       "     Actual  Predicted\n",
       "179       0          0\n",
       "228       0          1\n",
       "111       1          1\n",
       "246       0          0\n",
       "60        1          1\n",
       "9         1          1\n",
       "119       1          1\n",
       "223       0          0\n",
       "268       0          0\n",
       "33        1          0"
      ]
     },
     "execution_count": 283,
     "metadata": {},
     "output_type": "execute_result"
    }
   ],
   "source": [
    "result = pd.DataFrame({\"Actual\":y_test,\"Predicted\":y_pred})\n",
    "result.head(10)"
   ]
  },
  {
   "cell_type": "markdown",
   "id": "71d456a6",
   "metadata": {},
   "source": [
    "### e.\tComment on the performance of this classifier on training vs. testing datasets."
   ]
  },
  {
   "cell_type": "code",
   "execution_count": 284,
   "id": "749bf024",
   "metadata": {},
   "outputs": [
    {
     "name": "stdout",
     "output_type": "stream",
     "text": [
      "Confusion Matrix \n",
      " [[31 10]\n",
      " [15 35]]\n"
     ]
    }
   ],
   "source": [
    "# applying Confusion Matrix to evaluate the performance of our model\n",
    "\n",
    "from sklearn.metrics import confusion_matrix\n",
    "cm = confusion_matrix(y_test, y_pred)\n",
    "print(\"Confusion Matrix \\n\",cm)"
   ]
  },
  {
   "cell_type": "code",
   "execution_count": 285,
   "id": "e55b77ba",
   "metadata": {},
   "outputs": [
    {
     "name": "stdout",
     "output_type": "stream",
     "text": [
      "Training-set score: 100.0\n",
      "Test-set score:  72.53\n"
     ]
    }
   ],
   "source": [
    "# Checking for training and testing Accuracy\n",
    "train1 = round(model.score(X_train,y_train)*100,2)\n",
    "test1 = round(model.score(X_test,y_test)*100,2)\n",
    "\n",
    "print(\"Training-set score:\" ,train1)\n",
    "print(\"Test-set score: \" ,test1)"
   ]
  },
  {
   "cell_type": "code",
   "execution_count": 286,
   "id": "2376ba8e",
   "metadata": {},
   "outputs": [
    {
     "name": "stdout",
     "output_type": "stream",
     "text": [
      "Accuracy of model is:  72.52747252747253\n"
     ]
    }
   ],
   "source": [
    "# checking Accuracy of model\n",
    "\n",
    "from sklearn.metrics import accuracy_score\n",
    "accuracy1 =accuracy_score(y_test,y_pred)*100\n",
    "print(\"Accuracy of model is: \",accuracy*100)"
   ]
  },
  {
   "cell_type": "code",
   "execution_count": 287,
   "id": "78d3bb92",
   "metadata": {},
   "outputs": [
    {
     "name": "stdout",
     "output_type": "stream",
     "text": [
      "Precision score is : 0.7777777777777778\n",
      "Recall score is : 0.7\n"
     ]
    }
   ],
   "source": [
    "# Checking for Precision and Recall\n",
    "\n",
    "from sklearn.metrics import precision_score\n",
    "from sklearn.metrics import recall_score\n",
    "\n",
    "precision = precision_score(y_test,y_pred)\n",
    "recall = recall_score(y_test,y_pred)\n",
    "\n",
    "print(\"Precision score is :\",precision)\n",
    "print(\"Recall score is :\",recall)"
   ]
  },
  {
   "cell_type": "code",
   "execution_count": 288,
   "id": "6daa0069",
   "metadata": {},
   "outputs": [
    {
     "name": "stdout",
     "output_type": "stream",
     "text": [
      "F-1 score is : 0.7368421052631577\n"
     ]
    }
   ],
   "source": [
    "# Checking F1 score of model\n",
    "\n",
    "from sklearn.metrics import f1_score\n",
    "f1 = f1_score(y_test,y_pred)\n",
    "print(\"F-1 score is :\",f1)"
   ]
  },
  {
   "cell_type": "markdown",
   "id": "3f88dfec",
   "metadata": {},
   "source": [
    "# 2.\tNow follow these steps:"
   ]
  },
  {
   "cell_type": "markdown",
   "id": "ecdf3539",
   "metadata": {},
   "source": [
    "### a.\tBreak down the same dataset into training (70%) and testing (30%) datasets as you did in Step (1)."
   ]
  },
  {
   "cell_type": "code",
   "execution_count": 289,
   "id": "5cf569a4",
   "metadata": {},
   "outputs": [
    {
     "data": {
      "text/plain": [
       "((212, 13), (91, 13), (212,), (91,))"
      ]
     },
     "execution_count": 289,
     "metadata": {},
     "output_type": "execute_result"
    }
   ],
   "source": [
    "# Lets split data into training and testing set using sklearn\n",
    "\n",
    "from sklearn.model_selection import train_test_split\n",
    "\n",
    "X_train, X_test, y_train, y_test = train_test_split(X, y, test_size=0.3, random_state=42)\n",
    "\n",
    "X_train.shape, X_test.shape, y_train.shape, y_test.shape"
   ]
  },
  {
   "cell_type": "markdown",
   "id": "475d2d69",
   "metadata": {},
   "source": [
    "#### This code divide data into  training (70%) and testing (30%) groups and we do not need to worry about data overlapping as \"train_test_split\" library take care of it by default."
   ]
  },
  {
   "cell_type": "markdown",
   "id": "f8dd97ae",
   "metadata": {},
   "source": [
    "### b.\tApply 10-Fold Cross Validation on whole dataset"
   ]
  },
  {
   "cell_type": "code",
   "execution_count": 290,
   "id": "a26073d0",
   "metadata": {},
   "outputs": [
    {
     "name": "stdout",
     "output_type": "stream",
     "text": [
      "Fold:1, Train set: 272, Test set:31\n",
      "Fold:2, Train set: 272, Test set:31\n",
      "Fold:3, Train set: 272, Test set:31\n",
      "Fold:4, Train set: 273, Test set:30\n",
      "Fold:5, Train set: 273, Test set:30\n",
      "Fold:6, Train set: 273, Test set:30\n",
      "Fold:7, Train set: 273, Test set:30\n",
      "Fold:8, Train set: 273, Test set:30\n",
      "Fold:9, Train set: 273, Test set:30\n",
      "Fold:10, Train set: 273, Test set:30\n"
     ]
    }
   ],
   "source": [
    "from sklearn.model_selection import KFold, cross_val_score, cross_val_predict\n",
    "kf = KFold(n_splits=10)                                       # Apply 10-Fold Cross Validation\n",
    "\n",
    "cnt = 1\n",
    "for train_index, test_index in kf.split(X, y):\n",
    "    print(f'Fold:{cnt}, Train set: {len(train_index)}, Test set:{len(test_index)}')\n",
    "    cnt += 1"
   ]
  },
  {
   "cell_type": "code",
   "execution_count": 291,
   "id": "9f278804",
   "metadata": {},
   "outputs": [],
   "source": [
    "# In above code we successfully applied 10 fold cros validation which generate 10 sets for training and testing"
   ]
  },
  {
   "cell_type": "markdown",
   "id": "1734c334",
   "metadata": {},
   "source": [
    "### c.  Then, use the same classifier as (1) on the training data. "
   ]
  },
  {
   "cell_type": "code",
   "execution_count": 292,
   "id": "204f8679",
   "metadata": {},
   "outputs": [
    {
     "data": {
      "text/plain": [
       "array([0.81818182, 0.68181818, 0.61904762, 0.76190476, 0.71428571,\n",
       "       0.76190476, 0.71428571, 0.9047619 , 0.80952381, 0.66666667])"
      ]
     },
     "execution_count": 292,
     "metadata": {},
     "output_type": "execute_result"
    }
   ],
   "source": [
    "model = DecisionTreeClassifier(criterion = \"entropy\")\n",
    "training_scores = cross_val_score(model, X_train, y_train, cv=kf)\n",
    "training_scores"
   ]
  },
  {
   "cell_type": "code",
   "execution_count": 293,
   "id": "3d884fcf",
   "metadata": {},
   "outputs": [],
   "source": [
    "# Here we used same classifiers as before with 10 Fold cross validation"
   ]
  },
  {
   "cell_type": "code",
   "execution_count": 294,
   "id": "f8a709d7",
   "metadata": {},
   "outputs": [
    {
     "data": {
      "text/plain": [
       "0.7387096774193548"
      ]
     },
     "execution_count": 294,
     "metadata": {},
     "output_type": "execute_result"
    }
   ],
   "source": [
    "score.mean()     # mean Accuracy on train data"
   ]
  },
  {
   "cell_type": "code",
   "execution_count": 295,
   "id": "fc9d2f45",
   "metadata": {},
   "outputs": [
    {
     "data": {
      "text/plain": [
       "1.0"
      ]
     },
     "execution_count": 295,
     "metadata": {},
     "output_type": "execute_result"
    }
   ],
   "source": [
    "model.fit(X_train, y_train)\n",
    "model.score(X_train, y_train)   # Train score on 10 fold"
   ]
  },
  {
   "cell_type": "code",
   "execution_count": 296,
   "id": "574f7874",
   "metadata": {},
   "outputs": [
    {
     "data": {
      "text/plain": [
       "74.05660377358491"
      ]
     },
     "execution_count": 296,
     "metadata": {},
     "output_type": "execute_result"
    }
   ],
   "source": [
    "model_pred = cross_val_predict(model, X_train, y_train, cv=kf)\n",
    "accuracy2 = accuracy_score(y_train, model_pred)*100\n",
    "\n",
    "accuracy2\n",
    "# Prediction on training dataset"
   ]
  },
  {
   "cell_type": "markdown",
   "id": "ca5198fe",
   "metadata": {},
   "source": [
    "### d.\tPredict the target variable using the testing dataset."
   ]
  },
  {
   "cell_type": "code",
   "execution_count": 297,
   "id": "121e75b9",
   "metadata": {},
   "outputs": [
    {
     "data": {
      "text/plain": [
       "81.31868131868131"
      ]
     },
     "execution_count": 297,
     "metadata": {},
     "output_type": "execute_result"
    }
   ],
   "source": [
    "from sklearn.metrics import accuracy_score\n",
    "\n",
    "prediction = cross_val_predict(model, X_test, y_test, cv=kf)\n",
    "test2 = accuracy_score(y_test, prediction)\n",
    "test2*100"
   ]
  },
  {
   "cell_type": "code",
   "execution_count": 298,
   "id": "415b461c",
   "metadata": {},
   "outputs": [],
   "source": [
    "# Making prediction on test dataset after applying 10 fold cross validation"
   ]
  },
  {
   "cell_type": "code",
   "execution_count": 299,
   "id": "a5a5ff15",
   "metadata": {},
   "outputs": [
    {
     "data": {
      "text/html": [
       "<div>\n",
       "<style scoped>\n",
       "    .dataframe tbody tr th:only-of-type {\n",
       "        vertical-align: middle;\n",
       "    }\n",
       "\n",
       "    .dataframe tbody tr th {\n",
       "        vertical-align: top;\n",
       "    }\n",
       "\n",
       "    .dataframe thead th {\n",
       "        text-align: right;\n",
       "    }\n",
       "</style>\n",
       "<table border=\"1\" class=\"dataframe\">\n",
       "  <thead>\n",
       "    <tr style=\"text-align: right;\">\n",
       "      <th></th>\n",
       "      <th>Actual</th>\n",
       "      <th>Predicted</th>\n",
       "    </tr>\n",
       "  </thead>\n",
       "  <tbody>\n",
       "    <tr>\n",
       "      <th>179</th>\n",
       "      <td>0</td>\n",
       "      <td>1</td>\n",
       "    </tr>\n",
       "    <tr>\n",
       "      <th>228</th>\n",
       "      <td>0</td>\n",
       "      <td>0</td>\n",
       "    </tr>\n",
       "    <tr>\n",
       "      <th>111</th>\n",
       "      <td>1</td>\n",
       "      <td>1</td>\n",
       "    </tr>\n",
       "    <tr>\n",
       "      <th>246</th>\n",
       "      <td>0</td>\n",
       "      <td>0</td>\n",
       "    </tr>\n",
       "    <tr>\n",
       "      <th>60</th>\n",
       "      <td>1</td>\n",
       "      <td>1</td>\n",
       "    </tr>\n",
       "    <tr>\n",
       "      <th>...</th>\n",
       "      <td>...</td>\n",
       "      <td>...</td>\n",
       "    </tr>\n",
       "    <tr>\n",
       "      <th>250</th>\n",
       "      <td>0</td>\n",
       "      <td>0</td>\n",
       "    </tr>\n",
       "    <tr>\n",
       "      <th>19</th>\n",
       "      <td>1</td>\n",
       "      <td>1</td>\n",
       "    </tr>\n",
       "    <tr>\n",
       "      <th>143</th>\n",
       "      <td>1</td>\n",
       "      <td>1</td>\n",
       "    </tr>\n",
       "    <tr>\n",
       "      <th>79</th>\n",
       "      <td>1</td>\n",
       "      <td>1</td>\n",
       "    </tr>\n",
       "    <tr>\n",
       "      <th>144</th>\n",
       "      <td>1</td>\n",
       "      <td>1</td>\n",
       "    </tr>\n",
       "  </tbody>\n",
       "</table>\n",
       "<p>91 rows × 2 columns</p>\n",
       "</div>"
      ],
      "text/plain": [
       "     Actual  Predicted\n",
       "179       0          1\n",
       "228       0          0\n",
       "111       1          1\n",
       "246       0          0\n",
       "60        1          1\n",
       "..      ...        ...\n",
       "250       0          0\n",
       "19        1          1\n",
       "143       1          1\n",
       "79        1          1\n",
       "144       1          1\n",
       "\n",
       "[91 rows x 2 columns]"
      ]
     },
     "execution_count": 299,
     "metadata": {},
     "output_type": "execute_result"
    }
   ],
   "source": [
    "result = pd.DataFrame({\"Actual\":y_test,\"Predicted\":prediction})\n",
    "result"
   ]
  },
  {
   "cell_type": "markdown",
   "id": "767f9ace",
   "metadata": {},
   "source": [
    "### e.\tComment on the performance of the classifier on training vs. testing datasets. "
   ]
  },
  {
   "cell_type": "code",
   "execution_count": 300,
   "id": "ed047b33",
   "metadata": {},
   "outputs": [],
   "source": [
    "# In the previsous model we got accuracy of 72.52 % and after applying 10 fold cross validation we got 90.4% of highest\n",
    "# Accuracy in 2nd fold where as lowest is 61.9 % in 10th fold.\n",
    "\n",
    "# After 10 fold cross validation average accuracy of model is : 74.72 % which is slightly better than previous model"
   ]
  },
  {
   "cell_type": "markdown",
   "id": "c0c2fc3d",
   "metadata": {},
   "source": [
    "### f.\tDoes the performance change from Step (1) to Step (2)? Can you explain the change? Tip: you may think about cross validation and if it affects overfitting. \n"
   ]
  },
  {
   "cell_type": "code",
   "execution_count": 301,
   "id": "8f877833",
   "metadata": {},
   "outputs": [],
   "source": [
    "# yes, after using 10 fold cross validation accuracy is increased slightly.\n",
    "# after 10 fold it eliminates the ptoblem of overfitting by dividing data into 10 train and test sets \n",
    "# and finding accuracy for each set and than we find mean accuracy  "
   ]
  },
  {
   "cell_type": "markdown",
   "id": "30a1e323",
   "metadata": {},
   "source": [
    "# 3.\tNow follow these steps:"
   ]
  },
  {
   "cell_type": "markdown",
   "id": "6037779b",
   "metadata": {},
   "source": [
    "### a.\tChange the depth of decision tree classifier from Step (2). If you are using  DecisionTreeClassifier in Pyhton, you can change max_depth parameter to change the depth of the tree. Try the following values for max_depth: 2, 5, 10, 12. "
   ]
  },
  {
   "cell_type": "code",
   "execution_count": 302,
   "id": "5ecd22ed",
   "metadata": {},
   "outputs": [],
   "source": [
    "## we will apply gridsearch algorithm to findout best fitted depth for our model.\n"
   ]
  },
  {
   "cell_type": "code",
   "execution_count": 303,
   "id": "ee675ba5",
   "metadata": {},
   "outputs": [],
   "source": [
    "\n",
    "from sklearn.model_selection import GridSearchCV\n",
    "\n",
    "grid_parameter = {'criterion' : ['gini','entropy'],'max_depth' : [2,5,10,12],'min_samples_leaf' : range(1,10,1),\n",
    "    'min_samples_split' : range(2,10,1),'splitter' : ['best','random'] }\n",
    "\n",
    "grid_search = GridSearchCV(model,param_grid=grid_parameter,cv=10,n_jobs=-1)"
   ]
  },
  {
   "cell_type": "code",
   "execution_count": 304,
   "id": "b0c4d5c2",
   "metadata": {},
   "outputs": [
    {
     "data": {
      "text/plain": [
       "GridSearchCV(cv=10, estimator=DecisionTreeClassifier(criterion='entropy'),\n",
       "             n_jobs=-1,\n",
       "             param_grid={'criterion': ['gini', 'entropy'],\n",
       "                         'max_depth': [2, 5, 10, 12],\n",
       "                         'min_samples_leaf': range(1, 10),\n",
       "                         'min_samples_split': range(2, 10),\n",
       "                         'splitter': ['best', 'random']})"
      ]
     },
     "execution_count": 304,
     "metadata": {},
     "output_type": "execute_result"
    }
   ],
   "source": [
    "# Fitting training data using grid search\n",
    "\n",
    "grid_search.fit(X_train,y_train)"
   ]
  },
  {
   "cell_type": "code",
   "execution_count": 305,
   "id": "004d8c11",
   "metadata": {},
   "outputs": [
    {
     "name": "stdout",
     "output_type": "stream",
     "text": [
      "{'criterion': 'gini', 'max_depth': 12, 'min_samples_leaf': 5, 'min_samples_split': 5, 'splitter': 'random'}\n"
     ]
    }
   ],
   "source": [
    "parameters_best = grid_search.best_params_   # it will return best parameters for model\n",
    "\n",
    "print(parameters_best)"
   ]
  },
  {
   "cell_type": "code",
   "execution_count": 306,
   "id": "b4291fa2",
   "metadata": {},
   "outputs": [
    {
     "name": "stdout",
     "output_type": "stream",
     "text": [
      "Score:  0.8538961038961039\n"
     ]
    }
   ],
   "source": [
    "print(\"Score: \", grid_search.best_score_)"
   ]
  },
  {
   "cell_type": "code",
   "execution_count": 307,
   "id": "51adadc8",
   "metadata": {},
   "outputs": [],
   "source": [
    "# We can see that the method 'best_score_' returen max depth as 5 which is best suited for our model from all of the listed\n",
    "# depths."
   ]
  },
  {
   "cell_type": "markdown",
   "id": "6361a0d1",
   "metadata": {},
   "source": [
    "### b.\tComment on the performance of the classifier on the training vs. testing datasets. "
   ]
  },
  {
   "cell_type": "code",
   "execution_count": 308,
   "id": "cf2caf65",
   "metadata": {},
   "outputs": [
    {
     "data": {
      "text/plain": [
       "DecisionTreeClassifier(max_depth=5, min_samples_leaf=8, min_samples_split=7,\n",
       "                       splitter='random')"
      ]
     },
     "execution_count": 308,
     "metadata": {},
     "output_type": "execute_result"
    }
   ],
   "source": [
    "model = DecisionTreeClassifier(criterion = 'gini', max_depth =  5, min_samples_leaf  = 8, min_samples_split = 7, splitter= 'random')\n",
    "model.fit(X_train,y_train)"
   ]
  },
  {
   "cell_type": "code",
   "execution_count": 309,
   "id": "3b0a465e",
   "metadata": {},
   "outputs": [
    {
     "data": {
      "text/plain": [
       "0.8207547169811321"
      ]
     },
     "execution_count": 309,
     "metadata": {},
     "output_type": "execute_result"
    }
   ],
   "source": [
    "train3 = model.score(X_train,y_train)\n",
    "train3"
   ]
  },
  {
   "cell_type": "code",
   "execution_count": 310,
   "id": "20f5515e",
   "metadata": {},
   "outputs": [
    {
     "data": {
      "text/plain": [
       "78.02197802197803"
      ]
     },
     "execution_count": 310,
     "metadata": {},
     "output_type": "execute_result"
    }
   ],
   "source": [
    "model.score(X_test,y_test)*100"
   ]
  },
  {
   "cell_type": "code",
   "execution_count": 311,
   "id": "590ad966",
   "metadata": {},
   "outputs": [
    {
     "data": {
      "text/plain": [
       "array([0, 0, 1, 0, 1, 1, 0, 0, 0, 0, 1, 1, 1, 0, 1, 1, 1, 1, 0, 0, 0, 0,\n",
       "       1, 1, 1, 1, 1, 1, 0, 1, 0, 0, 0, 0, 1, 0, 1, 0, 0, 1, 0, 1, 1, 1,\n",
       "       1, 0, 0, 1, 0, 0, 0, 0, 1, 1, 0, 0, 0, 1, 0, 0, 1, 1, 0, 1, 1, 0,\n",
       "       1, 1, 1, 1, 1, 1, 0, 1, 0, 1, 0, 1, 1, 1, 0, 0, 1, 0, 1, 0, 0, 1,\n",
       "       1, 0, 1], dtype=int64)"
      ]
     },
     "execution_count": 311,
     "metadata": {},
     "output_type": "execute_result"
    }
   ],
   "source": [
    "y_pred =model.predict(X_test)\n",
    "y_pred"
   ]
  },
  {
   "cell_type": "code",
   "execution_count": 312,
   "id": "83bd85ec",
   "metadata": {},
   "outputs": [
    {
     "name": "stdout",
     "output_type": "stream",
     "text": [
      "Training score:  82.0754716981132\n",
      "Test score:  78.02197802197803\n"
     ]
    }
   ],
   "source": [
    "print(\"Training score: \", model.score(X_train, y_train)*100)\n",
    "\n",
    "print(\"Test score: \", model.score(X_test, y_test)*100)"
   ]
  },
  {
   "cell_type": "code",
   "execution_count": 313,
   "id": "0b5997e0",
   "metadata": {},
   "outputs": [],
   "source": [
    "from sklearn.metrics import accuracy_score\n",
    "accuracy3 = accuracy_score(y_test,y_pred)"
   ]
  },
  {
   "cell_type": "code",
   "execution_count": 314,
   "id": "30ddc60c",
   "metadata": {},
   "outputs": [],
   "source": [
    "# We can see that classifier give 83% accuracy on training dataset whereas \n",
    "# 73% on testing dataset"
   ]
  },
  {
   "cell_type": "markdown",
   "id": "93f2505b",
   "metadata": {},
   "source": [
    "### c  Which max_depth value would you set based on your observations in (b)? Why?"
   ]
  },
  {
   "cell_type": "code",
   "execution_count": null,
   "id": "297783fb",
   "metadata": {},
   "outputs": [],
   "source": []
  },
  {
   "cell_type": "markdown",
   "id": "1d5078df",
   "metadata": {},
   "source": [
    "### d What do you conclude in terms of tree depth, performance and overfitting based on (b)?"
   ]
  },
  {
   "cell_type": "code",
   "execution_count": null,
   "id": "30f543d6",
   "metadata": {},
   "outputs": [],
   "source": []
  },
  {
   "cell_type": "markdown",
   "id": "08ee18d5",
   "metadata": {},
   "source": [
    "# 4.\tNow follow these steps:"
   ]
  },
  {
   "cell_type": "markdown",
   "id": "02a056ea",
   "metadata": {},
   "source": [
    "### a.\tTry Random Forest on the training dataset"
   ]
  },
  {
   "cell_type": "code",
   "execution_count": 315,
   "id": "698941b1",
   "metadata": {},
   "outputs": [],
   "source": [
    "from sklearn.model_selection import train_test_split\n",
    "\n",
    "X_train, X_test, y_train, y_test = train_test_split(X, y, test_size=0.30, random_state=355)"
   ]
  },
  {
   "cell_type": "code",
   "execution_count": 316,
   "id": "afb7ebcf",
   "metadata": {},
   "outputs": [],
   "source": [
    "from sklearn.ensemble import RandomForestClassifier\n",
    "forest = RandomForestClassifier()"
   ]
  },
  {
   "cell_type": "code",
   "execution_count": 317,
   "id": "e04c47b1",
   "metadata": {},
   "outputs": [
    {
     "data": {
      "text/plain": [
       "RandomForestClassifier()"
      ]
     },
     "execution_count": 317,
     "metadata": {},
     "output_type": "execute_result"
    }
   ],
   "source": [
    "forest.fit(X_train,y_train)"
   ]
  },
  {
   "cell_type": "markdown",
   "id": "6db2193e",
   "metadata": {},
   "source": [
    "### b.\tPredict the target variable using the testing dataset."
   ]
  },
  {
   "cell_type": "code",
   "execution_count": 318,
   "id": "8decfcba",
   "metadata": {},
   "outputs": [
    {
     "data": {
      "text/plain": [
       "array([1, 1, 1, 0, 1, 1, 1, 1, 0, 0, 0, 0, 0, 0, 0, 1, 1, 0, 1, 1, 0, 1,\n",
       "       1, 1, 1, 0, 1, 1, 0, 0, 1, 1, 0, 1, 0, 1, 1, 0, 1, 0, 0, 1, 0, 1,\n",
       "       1, 1, 0, 0, 1, 1, 0, 0, 0, 0, 0, 1, 0, 1, 1, 1, 1, 1, 0, 1, 1, 1,\n",
       "       1, 0, 1, 1, 1, 0, 1, 0, 1, 0, 1, 1, 0, 1, 1, 1, 0, 1, 1, 1, 1, 1,\n",
       "       0, 0, 1], dtype=int64)"
      ]
     },
     "execution_count": 318,
     "metadata": {},
     "output_type": "execute_result"
    }
   ],
   "source": [
    "y_pred = forest.predict(X_test)\n",
    "y_pred"
   ]
  },
  {
   "cell_type": "markdown",
   "id": "69fef4d3",
   "metadata": {},
   "source": [
    "### c.\tComment on the performance of the classifier on training vs. testing datasets."
   ]
  },
  {
   "cell_type": "code",
   "execution_count": 319,
   "id": "bd7be432",
   "metadata": {},
   "outputs": [
    {
     "name": "stdout",
     "output_type": "stream",
     "text": [
      "Random Forest accuracy score:  81.31868131868131\n"
     ]
    }
   ],
   "source": [
    "from sklearn.metrics import accuracy_score\n",
    "accuracy4 = round((accuracy_score(y_test, y_pred)*100),2)\n",
    "print(\"Random Forest accuracy score: \", accuracy_score(y_test, y_pred)*100)"
   ]
  },
  {
   "cell_type": "code",
   "execution_count": 320,
   "id": "efd991eb",
   "metadata": {},
   "outputs": [
    {
     "name": "stdout",
     "output_type": "stream",
     "text": [
      "Random forest training score : 100.0\n",
      "Random forest test score : 81.31868131868131\n"
     ]
    }
   ],
   "source": [
    "print(\"Random forest training score :\" ,forest.score(X_train, y_train)*100)\n",
    "\n",
    "print(\"Random forest test score :\",forest.score(X_test, y_test)*100)"
   ]
  },
  {
   "cell_type": "code",
   "execution_count": 321,
   "id": "cd16862d",
   "metadata": {},
   "outputs": [
    {
     "data": {
      "text/plain": [
       "array([[28,  9],\n",
       "       [ 8, 46]], dtype=int64)"
      ]
     },
     "execution_count": 321,
     "metadata": {},
     "output_type": "execute_result"
    }
   ],
   "source": [
    "cm = confusion_matrix(y_test,y_pred)\n",
    "cm"
   ]
  },
  {
   "cell_type": "markdown",
   "id": "b901e57d",
   "metadata": {},
   "source": [
    "### d.\tDoes the performance change from Step (2) to Step (4)? Can you explain the change? Tip: you may create a table summarizing/comparing the performance in Step (1), (2), (3) and (4)."
   ]
  },
  {
   "cell_type": "code",
   "execution_count": 322,
   "id": "7bb2257a",
   "metadata": {},
   "outputs": [
    {
     "data": {
      "text/html": [
       "<div>\n",
       "<style scoped>\n",
       "    .dataframe tbody tr th:only-of-type {\n",
       "        vertical-align: middle;\n",
       "    }\n",
       "\n",
       "    .dataframe tbody tr th {\n",
       "        vertical-align: top;\n",
       "    }\n",
       "\n",
       "    .dataframe thead th {\n",
       "        text-align: right;\n",
       "    }\n",
       "</style>\n",
       "<table border=\"1\" class=\"dataframe\">\n",
       "  <thead>\n",
       "    <tr style=\"text-align: right;\">\n",
       "      <th></th>\n",
       "      <th>Decision_Tree</th>\n",
       "      <th>Decision_Tree(10-Fold)</th>\n",
       "      <th>Decision_Tree(Max_depth)</th>\n",
       "      <th>RandomForest</th>\n",
       "    </tr>\n",
       "  </thead>\n",
       "  <tbody>\n",
       "    <tr>\n",
       "      <th>Accuracy</th>\n",
       "      <td>72.527473</td>\n",
       "      <td>74.056604</td>\n",
       "      <td>78.021978</td>\n",
       "      <td>81.32</td>\n",
       "    </tr>\n",
       "  </tbody>\n",
       "</table>\n",
       "</div>"
      ],
      "text/plain": [
       "          Decision_Tree  Decision_Tree(10-Fold)  Decision_Tree(Max_depth)  \\\n",
       "Accuracy      72.527473               74.056604                 78.021978   \n",
       "\n",
       "          RandomForest  \n",
       "Accuracy         81.32  "
      ]
     },
     "execution_count": 322,
     "metadata": {},
     "output_type": "execute_result"
    }
   ],
   "source": [
    "df = pd.DataFrame({\"Decision_Tree\":{\"Accuracy\": accuracy1},\"Decision_Tree(10-Fold)\":{\"Accuracy\": accuracy2},\n",
    "                   \"Decision_Tree(Max_depth)\":{\"Accuracy\":accuracy3*100},\"RandomForest\":{\"Accuracy\":accuracy4}})\n",
    "df"
   ]
  },
  {
   "cell_type": "code",
   "execution_count": null,
   "id": "5d021100",
   "metadata": {},
   "outputs": [],
   "source": []
  },
  {
   "cell_type": "code",
   "execution_count": null,
   "id": "5e5d9ba1",
   "metadata": {},
   "outputs": [],
   "source": []
  }
 ],
 "metadata": {
  "kernelspec": {
   "display_name": "Python 3 (ipykernel)",
   "language": "python",
   "name": "python3"
  },
  "language_info": {
   "codemirror_mode": {
    "name": "ipython",
    "version": 3
   },
   "file_extension": ".py",
   "mimetype": "text/x-python",
   "name": "python",
   "nbconvert_exporter": "python",
   "pygments_lexer": "ipython3",
   "version": "3.9.7"
  }
 },
 "nbformat": 4,
 "nbformat_minor": 5
}
